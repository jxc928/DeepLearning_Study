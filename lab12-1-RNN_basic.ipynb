{
 "cells": [
  {
   "cell_type": "code",
   "execution_count": 1,
   "metadata": {
    "collapsed": true
   },
   "outputs": [],
   "source": [
    "import tensorflow as tf\n",
    "import numpy as np\n",
    "import pprint\n",
    "# The amount of indentation added for each recursive level is specified by indent\n",
    "pp = pprint.PrettyPrinter(indent=4)\n",
    "# A TensorFlow Session for use in interactive contexts, such as a shell.\n",
    "sess = tf.InteractiveSession()"
   ]
  },
  {
   "cell_type": "code",
   "execution_count": 2,
   "metadata": {},
   "outputs": [],
   "source": [
    "# One hot encoding for each char in 'hello'\n",
    "h = [1, 0, 0, 0]\n",
    "e = [0, 1, 0, 0]\n",
    "l = [0, 0, 1, 0]\n",
    "o = [0, 0, 0, 1]"
   ]
  },
  {
   "cell_type": "heading",
   "metadata": {},
   "level": 1,
   "source": [
    "1. Cell"
   ]
  },
  {
   "cell_type": "code",
   "execution_count": 3,
   "metadata": {
    "collapsed": true
   },
   "outputs": [
    {
     "name": "stdout",
     "output_type": "stream",
     "text": [
      "2 LSTMStateTuple(c=2, h=2)\narray([[[ 1.,  0.,  0.,  0.]]], dtype=float32)\n"
     ]
    },
    {
     "name": "stdout",
     "output_type": "stream",
     "text": [
      "array([[[-0.00986737,  0.08827952]]], dtype=float32)\n"
     ]
    }
   ],
   "source": [
    "with tf.variable_scope('one_cell') as scope:\n",
    "    # One cell RNN input_dim (4) -> output_dim (2)\n",
    "    hidden_size = 2\n",
    "    cell = tf.contrib.rnn.BasicLSTMCell(num_units=hidden_size)\n",
    "    print(cell.output_size, cell.state_size)\n",
    "    \n",
    "    x_data = np.array([[h]], dtype=np.float32)  # x_data = [[[1, 0, 0, 0]]]\n",
    "    pp.pprint(x_data)\n",
    "    outputs, _states = tf.nn.dynamic_rnn(cell, x_data, dtype=tf.float32)\n",
    "    \n",
    "    sess.run(tf.global_variables_initializer())\n",
    "    pp.pprint(outputs.eval())"
   ]
  },
  {
   "cell_type": "heading",
   "metadata": {},
   "level": 1,
   "source": [
    "2. Sequance"
   ]
  },
  {
   "cell_type": "code",
   "execution_count": 5,
   "metadata": {},
   "outputs": [
    {
     "name": "stdout",
     "output_type": "stream",
     "text": [
      "(1, 5, 4)\narray([[[ 1.,  0.,  0.,  0.],\n        [ 0.,  1.,  0.,  0.],\n        [ 0.,  0.,  1.,  0.],\n        [ 0.,  0.,  1.,  0.],\n        [ 0.,  0.,  0.,  1.]]], dtype=float32)\n"
     ]
    },
    {
     "name": "stdout",
     "output_type": "stream",
     "text": [
      "array([[[-0.17342447, -0.11040392],\n        [-0.14710532, -0.0880381 ],\n        [-0.04727915,  0.00759707],\n        [ 0.03275947,  0.10922783],\n        [-0.03082429,  0.16426583]]], dtype=float32)\n"
     ]
    }
   ],
   "source": [
    "with tf.variable_scope('two_Sequance') as scope:\n",
    "    # One cell RNN input_dim (4) -> output_dim (2). sequence: 5\n",
    "    hidden_size = 2\n",
    "    cell = tf.contrib.rnn.BasicLSTMCell(num_units=hidden_size)\n",
    "    x_data = np.array([[h, e, l, l, o]], dtype=np.float32)\n",
    "    print(x_data.shape)\n",
    "    pp.pprint(x_data)\n",
    "    outputs, states = tf.nn.dynamic_rnn(cell, x_data, dtype=tf.float32)\n",
    "    sess.run(tf.global_variables_initializer())\n",
    "    pp.pprint(outputs.eval())"
   ]
  },
  {
   "cell_type": "heading",
   "metadata": {},
   "level": 1,
   "source": [
    "3. Batch"
   ]
  },
  {
   "cell_type": "code",
   "execution_count": 7,
   "metadata": {},
   "outputs": [
    {
     "name": "stdout",
     "output_type": "stream",
     "text": [
      "array([[[ 1.,  0.,  0.,  0.],\n        [ 0.,  1.,  0.,  0.],\n        [ 0.,  0.,  1.,  0.],\n        [ 0.,  0.,  1.,  0.],\n        [ 0.,  0.,  0.,  1.]],\n\n       [[ 0.,  1.,  0.,  0.],\n        [ 0.,  0.,  0.,  1.],\n        [ 0.,  0.,  1.,  0.],\n        [ 0.,  0.,  1.,  0.],\n        [ 0.,  0.,  1.,  0.]],\n\n       [[ 0.,  0.,  1.,  0.],\n        [ 0.,  0.,  1.,  0.],\n        [ 0.,  1.,  0.,  0.],\n        [ 0.,  1.,  0.,  0.],\n        [ 0.,  0.,  1.,  0.]]], dtype=float32)\n"
     ]
    },
    {
     "name": "stdout",
     "output_type": "stream",
     "text": [
      "array([[[ 0.11832543,  0.06595117],\n        [ 0.24702589,  0.06833063],\n        [ 0.00737679,  0.10611526],\n        [-0.12257072,  0.12333389],\n        [-0.04216179,  0.17945966]],\n\n       [[ 0.09426524,  0.03051019],\n        [ 0.11478826,  0.10977624],\n        [-0.04812833,  0.11253216],\n        [-0.15550891,  0.12797628],\n        [-0.21438219,  0.13898197]],\n\n       [[-0.12731183,  0.04452415],\n        [-0.19899371,  0.07781581],\n        [-0.13731883,  0.07561703],\n        [-0.0184495 ,  0.08043462],\n        [-0.13548696,  0.11502461]]], dtype=float32)\n"
     ]
    }
   ],
   "source": [
    "with tf.variable_scope('three_batches') as scope:\n",
    "    # One cell RNN input_dim (4) -> output_dim (2). sequence: 5, batch 3\n",
    "    # 3 batches 'hello', 'eolll', 'lleel'\n",
    "    x_data = np.array([[h, e, l, l, o],\n",
    "                       [e, o, l, l, l],\n",
    "                       [l, l, e, e, l]], dtype=np.float32)\n",
    "    pp.pprint(x_data)\n",
    "    \n",
    "    hidden_size = 2\n",
    "    cell = tf.contrib.rnn.BasicLSTMCell(num_units=hidden_size, state_is_tuple=True)\n",
    "    outputs, _states = tf.nn.dynamic_rnn(\n",
    "        cell, x_data, dtype=tf.float32)\n",
    "    sess.run(tf.global_variables_initializer())\n",
    "    pp.pprint(outputs.eval())"
   ]
  },
  {
   "cell_type": "heading",
   "metadata": {},
   "level": 1,
   "source": [
    "4. Batch - Dynamic length"
   ]
  },
  {
   "cell_type": "code",
   "execution_count": 3,
   "metadata": {
    "collapsed": false
   },
   "outputs": [
    {
     "name": "stdout",
     "output_type": "stream",
     "text": [
      "array([[[ 1.,  0.,  0.,  0.],\n        [ 0.,  1.,  0.,  0.],\n        [ 0.,  0.,  1.,  0.],\n        [ 0.,  0.,  1.,  0.],\n        [ 0.,  0.,  0.,  1.]],\n\n       [[ 0.,  1.,  0.,  0.],\n        [ 0.,  0.,  0.,  1.],\n        [ 0.,  0.,  1.,  0.],\n        [ 0.,  0.,  1.,  0.],\n        [ 0.,  0.,  1.,  0.]],\n\n       [[ 0.,  0.,  1.,  0.],\n        [ 0.,  0.,  1.,  0.],\n        [ 0.,  1.,  0.,  0.],\n        [ 0.,  1.,  0.,  0.],\n        [ 0.,  0.,  1.,  0.]]], dtype=float32)\n"
     ]
    },
    {
     "name": "stdout",
     "output_type": "stream",
     "text": [
      "array([[[ 0.0721793 ,  0.13097814],\n        [-0.11776391,  0.03797518],\n        [-0.00934804,  0.06844412],\n        [ 0.06009306,  0.08930077],\n        [ 0.19321541,  0.12593642]],\n\n       [[-0.13883205, -0.03516557],\n        [ 0.07524952,  0.01027522],\n        [ 0.11228669,  0.03315873],\n        [ 0.        ,  0.        ],\n        [ 0.        ,  0.        ]],\n\n       [[ 0.07288288,  0.0319352 ],\n        [ 0.11952929,  0.05511245],\n        [-0.07736782,  0.00389756],\n        [-0.17417836, -0.02751253],\n        [ 0.        ,  0.        ]]], dtype=float32)\n"
     ]
    }
   ],
   "source": [
    "with tf.variable_scope('4_batches_dynamic_length') as scope:\n",
    "    # One cell RNN input_dim(4) -> output_dim(5). sequence: 5, batch: 3\n",
    "    # 3 batches 'hello', 'eolll', lleel'\n",
    "    x_data = np.array([[h, e, l, l, o],\n",
    "                       [e, o, l, l, l],\n",
    "                       [l, l, e, e, l]], dtype=np.float32)\n",
    "    pp.pprint(x_data)\n",
    "    \n",
    "    hidden_size = 2\n",
    "    cell = tf.contrib.rnn.BasicLSTMCell(\n",
    "        num_units=hidden_size, state_is_tuple=True)\n",
    "    outputs, _states = tf.nn.dynamic_rnn(\n",
    "        cell, x_data, sequence_length=[5, 3, 4], dtype=tf.float32)\n",
    "    sess.run(tf.global_variables_initializer())\n",
    "    pp.pprint(outputs.eval())"
   ]
  },
  {
   "cell_type": "code",
   "execution_count": null,
   "metadata": {},
   "outputs": [],
   "source": [
    ""
   ]
  }
 ],
 "metadata": {
  "kernelspec": {
   "display_name": "Python 2",
   "language": "python",
   "name": "python2"
  },
  "language_info": {
   "codemirror_mode": {
    "name": "ipython",
    "version": 2.0
   },
   "file_extension": ".py",
   "mimetype": "text/x-python",
   "name": "python",
   "nbconvert_exporter": "python",
   "pygments_lexer": "ipython2",
   "version": "2.7.6"
  }
 },
 "nbformat": 4,
 "nbformat_minor": 0
}